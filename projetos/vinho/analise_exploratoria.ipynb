{
 "cells": [
  {
   "cell_type": "markdown",
   "metadata": {},
   "source": [
    "## Leitura e tratamento dos dados"
   ]
  },
  {
   "cell_type": "markdown",
   "metadata": {},
   "source": [
    "### Importação de Bibliotecas"
   ]
  },
  {
   "cell_type": "code",
   "execution_count": 26,
   "metadata": {},
   "outputs": [],
   "source": [
    "import pandas as pd\n",
    "\n",
    "path_dados_vinho = \"../../dados/vinho/\""
   ]
  },
  {
   "cell_type": "markdown",
   "metadata": {},
   "source": [
    "### Exportação"
   ]
  },
  {
   "cell_type": "code",
   "execution_count": 27,
   "metadata": {},
   "outputs": [],
   "source": [
    "df_exp_espumantes = pd.read_csv(f\"{path_dados_vinho}ExpEspumantes.csv\", sep=\";\")\n",
    "df_exp_suco = pd.read_csv(f\"{path_dados_vinho}ExpSuco.csv\", sep=\";\")\n",
    "df_exp_uva = pd.read_csv(f\"{path_dados_vinho}ExpUva.csv\", sep=\";\")\n",
    "df_exp_vinho = pd.read_csv(f\"{path_dados_vinho}ExpVinho.csv\", sep=\";\")"
   ]
  },
  {
   "cell_type": "markdown",
   "metadata": {},
   "source": [
    "### Comércio"
   ]
  },
  {
   "cell_type": "code",
   "execution_count": 62,
   "metadata": {},
   "outputs": [],
   "source": [
    "df_comercio = pd.read_csv(f\"{path_dados_vinho}Comercio.csv\", sep=\";\", header=None)\n",
    "\n",
    "df_comercio.columns = ['ID', 'Categoria', 'Subcategoria'] + [str(ano) for ano in range(1970, 2022)]\n",
    "\n",
    "def categorizar(cat):\n",
    "    prefixo = cat.split('_')[0]\n",
    "    resto = '_'.join(cat.split('_')[1:])\n",
    "    \n",
    "    if prefixo == 'vm':\n",
    "        return 'VINHO DE MESA_' + resto\n",
    "    elif prefixo == 've':\n",
    "        return 'VINHO ESPECIAL_' + resto\n",
    "    elif prefixo == 'es':\n",
    "        return 'ESPUMANTES_' + resto\n",
    "    elif prefixo == 'su':\n",
    "        return 'SUCO DE UVAS_' + resto\n",
    "    elif prefixo == 'ou':\n",
    "        return 'OUTROS PRODUTOS COMERCIALIZADOS_' + resto\n",
    "    else:\n",
    "        return cat\n",
    "\n",
    "df_comercio['Categoria'] = df_comercio['Categoria'].apply(categorizar)\n",
    "\n",
    "# Extrair categorias principais e subcategorias\n",
    "df_comercio['Categoria_Split'] = df_comercio['Categoria'].str.split('_')\n",
    "df_comercio['Categoria_Principal'] = df_comercio['Categoria_Split'].apply(lambda x: x[0] if x else '')\n",
    "df_comercio['Subcategoria'] = df_comercio['Categoria_Split'].apply(lambda x: '_'.join(x[1:]) if len(x) > 1 else '')\n",
    "df_comercio['Subcategoria'] = df_comercio.apply(lambda row: row['Categoria_Principal'] if row['Subcategoria'] == '' else row['Subcategoria'], axis=1)\n",
    "\n",
    "df_comercio = df_comercio.drop('Categoria_Split', axis=1)"
   ]
  },
  {
   "cell_type": "markdown",
   "metadata": {},
   "source": [
    "### Importação"
   ]
  },
  {
   "cell_type": "code",
   "execution_count": 29,
   "metadata": {},
   "outputs": [],
   "source": [
    "df_imp_espumantes = pd.read_csv(f\"{path_dados_vinho}ImpEspumantes.csv\", sep=\";\")\n",
    "df_imp_frescas = pd.read_csv(f\"{path_dados_vinho}ImpFrescas.csv\", sep=\";\")\n",
    "df_imp_passas = pd.read_csv(f\"{path_dados_vinho}ImpPassas.csv\", sep=\";\")\n",
    "df_imp_suco = pd.read_csv(f\"{path_dados_vinho}ImpSuco.csv\", sep=\";\")\n",
    "df_imp_vinhos = pd.read_csv(f\"{path_dados_vinho}ImpVinhos.csv\", sep=\";\")"
   ]
  },
  {
   "cell_type": "markdown",
   "metadata": {},
   "source": [
    "### Processamento"
   ]
  },
  {
   "cell_type": "code",
   "execution_count": 40,
   "metadata": {},
   "outputs": [],
   "source": [
    "df_proc_americanas = pd.read_csv(f\"{path_dados_vinho}ProcessaAmericanas.csv\", sep=\";\")\n",
    "df_proc_mesa = pd.read_csv(f\"{path_dados_vinho}ProcessaMesa.csv\", sep=\";\")\n",
    "df_proc_viniferas = pd.read_csv(f\"{path_dados_vinho}ProcessaViniferas.csv\", sep=\"\\t\")"
   ]
  },
  {
   "cell_type": "markdown",
   "metadata": {},
   "source": [
    "### Produção"
   ]
  },
  {
   "cell_type": "code",
   "execution_count": 31,
   "metadata": {},
   "outputs": [],
   "source": [
    "df_produção = pd.read_csv(f\"{path_dados_vinho}Producao.csv\", sep=\";\")"
   ]
  },
  {
   "cell_type": "markdown",
   "metadata": {},
   "source": [
    "## Tratamento das Bases"
   ]
  },
  {
   "cell_type": "code",
   "execution_count": 63,
   "metadata": {},
   "outputs": [
    {
     "data": {
      "text/html": [
       "<div>\n",
       "<style scoped>\n",
       "    .dataframe tbody tr th:only-of-type {\n",
       "        vertical-align: middle;\n",
       "    }\n",
       "\n",
       "    .dataframe tbody tr th {\n",
       "        vertical-align: top;\n",
       "    }\n",
       "\n",
       "    .dataframe thead th {\n",
       "        text-align: right;\n",
       "    }\n",
       "</style>\n",
       "<table border=\"1\" class=\"dataframe\">\n",
       "  <thead>\n",
       "    <tr style=\"text-align: right;\">\n",
       "      <th></th>\n",
       "      <th>ID</th>\n",
       "      <th>Categoria</th>\n",
       "      <th>Subcategoria</th>\n",
       "      <th>1970</th>\n",
       "      <th>1971</th>\n",
       "      <th>1972</th>\n",
       "      <th>1973</th>\n",
       "      <th>1974</th>\n",
       "      <th>1975</th>\n",
       "      <th>1976</th>\n",
       "      <th>...</th>\n",
       "      <th>2013</th>\n",
       "      <th>2014</th>\n",
       "      <th>2015</th>\n",
       "      <th>2016</th>\n",
       "      <th>2017</th>\n",
       "      <th>2018</th>\n",
       "      <th>2019</th>\n",
       "      <th>2020</th>\n",
       "      <th>2021</th>\n",
       "      <th>Categoria_Principal</th>\n",
       "    </tr>\n",
       "  </thead>\n",
       "  <tbody>\n",
       "    <tr>\n",
       "      <th>0</th>\n",
       "      <td>1</td>\n",
       "      <td>VINHO DE MESA</td>\n",
       "      <td>VINHO DE MESA</td>\n",
       "      <td>98327606</td>\n",
       "      <td>114399031</td>\n",
       "      <td>118377367</td>\n",
       "      <td>116617910</td>\n",
       "      <td>94173324</td>\n",
       "      <td>108031792</td>\n",
       "      <td>139238614</td>\n",
       "      <td>...</td>\n",
       "      <td>221590810</td>\n",
       "      <td>206404427</td>\n",
       "      <td>209198468</td>\n",
       "      <td>166769622</td>\n",
       "      <td>176059959</td>\n",
       "      <td>177186273</td>\n",
       "      <td>180446489</td>\n",
       "      <td>215557931</td>\n",
       "      <td>210012238</td>\n",
       "      <td>VINHO DE MESA</td>\n",
       "    </tr>\n",
       "    <tr>\n",
       "      <th>1</th>\n",
       "      <td>2</td>\n",
       "      <td>VINHO DE MESA_Tinto</td>\n",
       "      <td>Tinto</td>\n",
       "      <td>83300735</td>\n",
       "      <td>98522869</td>\n",
       "      <td>101167932</td>\n",
       "      <td>98196747</td>\n",
       "      <td>77167303</td>\n",
       "      <td>91528090</td>\n",
       "      <td>116407222</td>\n",
       "      <td>...</td>\n",
       "      <td>188033494</td>\n",
       "      <td>178250072</td>\n",
       "      <td>182028785</td>\n",
       "      <td>146646365</td>\n",
       "      <td>154309442</td>\n",
       "      <td>155115499</td>\n",
       "      <td>158519218</td>\n",
       "      <td>189573423</td>\n",
       "      <td>185653678</td>\n",
       "      <td>VINHO DE MESA</td>\n",
       "    </tr>\n",
       "    <tr>\n",
       "      <th>2</th>\n",
       "      <td>3</td>\n",
       "      <td>VINHO DE MESA_Rosado</td>\n",
       "      <td>Rosado</td>\n",
       "      <td>107681</td>\n",
       "      <td>542274</td>\n",
       "      <td>7770851</td>\n",
       "      <td>8425617</td>\n",
       "      <td>8891367</td>\n",
       "      <td>7261777</td>\n",
       "      <td>11748047</td>\n",
       "      <td>...</td>\n",
       "      <td>1777648</td>\n",
       "      <td>1419855</td>\n",
       "      <td>1409002</td>\n",
       "      <td>1391942</td>\n",
       "      <td>1097426</td>\n",
       "      <td>1972944</td>\n",
       "      <td>1265435</td>\n",
       "      <td>1394901</td>\n",
       "      <td>1931606</td>\n",
       "      <td>VINHO DE MESA</td>\n",
       "    </tr>\n",
       "    <tr>\n",
       "      <th>3</th>\n",
       "      <td>4</td>\n",
       "      <td>VINHO DE MESA_Branco</td>\n",
       "      <td>Branco</td>\n",
       "      <td>14919190</td>\n",
       "      <td>15333888</td>\n",
       "      <td>9438584</td>\n",
       "      <td>9995546</td>\n",
       "      <td>8114654</td>\n",
       "      <td>9241925</td>\n",
       "      <td>11083345</td>\n",
       "      <td>...</td>\n",
       "      <td>31779668</td>\n",
       "      <td>26734500</td>\n",
       "      <td>25760681</td>\n",
       "      <td>18731315</td>\n",
       "      <td>20653091</td>\n",
       "      <td>20097830</td>\n",
       "      <td>20661836</td>\n",
       "      <td>24589607</td>\n",
       "      <td>22426954</td>\n",
       "      <td>VINHO DE MESA</td>\n",
       "    </tr>\n",
       "    <tr>\n",
       "      <th>4</th>\n",
       "      <td>5</td>\n",
       "      <td>VINHO  FINO DE MESA</td>\n",
       "      <td>VINHO  FINO DE MESA</td>\n",
       "      <td>4430629</td>\n",
       "      <td>4840369</td>\n",
       "      <td>5602091</td>\n",
       "      <td>7202830</td>\n",
       "      <td>7571802</td>\n",
       "      <td>8848303</td>\n",
       "      <td>14095648</td>\n",
       "      <td>...</td>\n",
       "      <td>27912934</td>\n",
       "      <td>20424983</td>\n",
       "      <td>20141631</td>\n",
       "      <td>19630158</td>\n",
       "      <td>15874354</td>\n",
       "      <td>14826143</td>\n",
       "      <td>15684588</td>\n",
       "      <td>24310834</td>\n",
       "      <td>27080445</td>\n",
       "      <td>VINHO  FINO DE MESA</td>\n",
       "    </tr>\n",
       "  </tbody>\n",
       "</table>\n",
       "<p>5 rows × 56 columns</p>\n",
       "</div>"
      ],
      "text/plain": [
       "   ID             Categoria         Subcategoria      1970       1971  \\\n",
       "0   1         VINHO DE MESA        VINHO DE MESA  98327606  114399031   \n",
       "1   2   VINHO DE MESA_Tinto                Tinto  83300735   98522869   \n",
       "2   3  VINHO DE MESA_Rosado               Rosado    107681     542274   \n",
       "3   4  VINHO DE MESA_Branco               Branco  14919190   15333888   \n",
       "4   5   VINHO  FINO DE MESA  VINHO  FINO DE MESA   4430629    4840369   \n",
       "\n",
       "        1972       1973      1974       1975       1976  ...       2013  \\\n",
       "0  118377367  116617910  94173324  108031792  139238614  ...  221590810   \n",
       "1  101167932   98196747  77167303   91528090  116407222  ...  188033494   \n",
       "2    7770851    8425617   8891367    7261777   11748047  ...    1777648   \n",
       "3    9438584    9995546   8114654    9241925   11083345  ...   31779668   \n",
       "4    5602091    7202830   7571802    8848303   14095648  ...   27912934   \n",
       "\n",
       "        2014       2015       2016       2017       2018       2019  \\\n",
       "0  206404427  209198468  166769622  176059959  177186273  180446489   \n",
       "1  178250072  182028785  146646365  154309442  155115499  158519218   \n",
       "2    1419855    1409002    1391942    1097426    1972944    1265435   \n",
       "3   26734500   25760681   18731315   20653091   20097830   20661836   \n",
       "4   20424983   20141631   19630158   15874354   14826143   15684588   \n",
       "\n",
       "        2020       2021  Categoria_Principal  \n",
       "0  215557931  210012238        VINHO DE MESA  \n",
       "1  189573423  185653678        VINHO DE MESA  \n",
       "2    1394901    1931606        VINHO DE MESA  \n",
       "3   24589607   22426954        VINHO DE MESA  \n",
       "4   24310834   27080445  VINHO  FINO DE MESA  \n",
       "\n",
       "[5 rows x 56 columns]"
      ]
     },
     "execution_count": 63,
     "metadata": {},
     "output_type": "execute_result"
    }
   ],
   "source": [
    "df_comercio.head()"
   ]
  },
  {
   "cell_type": "code",
   "execution_count": null,
   "metadata": {},
   "outputs": [],
   "source": []
  }
 ],
 "metadata": {
  "kernelspec": {
   "display_name": "fiap_3818",
   "language": "python",
   "name": "python3"
  },
  "language_info": {
   "codemirror_mode": {
    "name": "ipython",
    "version": 3
   },
   "file_extension": ".py",
   "mimetype": "text/x-python",
   "name": "python",
   "nbconvert_exporter": "python",
   "pygments_lexer": "ipython3",
   "version": "3.8.18"
  }
 },
 "nbformat": 4,
 "nbformat_minor": 2
}
