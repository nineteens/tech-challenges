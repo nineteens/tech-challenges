{
 "cells": [
  {
   "cell_type": "markdown",
   "metadata": {},
   "source": [
    "## Leitura dos dados"
   ]
  },
  {
   "cell_type": "markdown",
   "metadata": {},
   "source": [
    "### Importação de Bibliotecas"
   ]
  },
  {
   "cell_type": "code",
   "execution_count": 26,
   "metadata": {},
   "outputs": [],
   "source": [
    "import pandas as pd\n",
    "\n",
    "path_dados_vinho = \"../../dados/vinho/\""
   ]
  },
  {
   "cell_type": "markdown",
   "metadata": {},
   "source": [
    "### Exportação"
   ]
  },
  {
   "cell_type": "code",
   "execution_count": 27,
   "metadata": {},
   "outputs": [],
   "source": [
    "df_exp_espumantes = pd.read_csv(f\"{path_dados_vinho}ExpEspumantes.csv\", sep=\";\")\n",
    "df_exp_suco = pd.read_csv(f\"{path_dados_vinho}ExpSuco.csv\", sep=\";\")\n",
    "df_exp_uva = pd.read_csv(f\"{path_dados_vinho}ExpUva.csv\", sep=\";\")\n",
    "df_exp_vinho = pd.read_csv(f\"{path_dados_vinho}ExpVinho.csv\", sep=\";\")"
   ]
  },
  {
   "cell_type": "markdown",
   "metadata": {},
   "source": [
    "### Comércio"
   ]
  },
  {
   "cell_type": "code",
   "execution_count": 28,
   "metadata": {},
   "outputs": [],
   "source": [
    "df_comercio = pd.read_csv(f\"{path_dados_vinho}Comercio.csv\", sep=\";\")"
   ]
  },
  {
   "cell_type": "markdown",
   "metadata": {},
   "source": [
    "### Importação"
   ]
  },
  {
   "cell_type": "code",
   "execution_count": 29,
   "metadata": {},
   "outputs": [],
   "source": [
    "df_imp_espumantes = pd.read_csv(f\"{path_dados_vinho}ImpEspumantes.csv\", sep=\";\")\n",
    "df_imp_frescas = pd.read_csv(f\"{path_dados_vinho}ImpFrescas.csv\", sep=\";\")\n",
    "df_imp_passas = pd.read_csv(f\"{path_dados_vinho}ImpPassas.csv\", sep=\";\")\n",
    "df_imp_suco = pd.read_csv(f\"{path_dados_vinho}ImpSuco.csv\", sep=\";\")\n",
    "df_imp_vinhos = pd.read_csv(f\"{path_dados_vinho}ImpVinhos.csv\", sep=\";\")"
   ]
  },
  {
   "cell_type": "markdown",
   "metadata": {},
   "source": [
    "### Processamento"
   ]
  },
  {
   "cell_type": "code",
   "execution_count": 30,
   "metadata": {},
   "outputs": [],
   "source": [
    "df_proc_americanas = pd.read_csv(f\"{path_dados_vinho}ProcessaAmericanas.csv\", sep=\";\")\n",
    "df_proc_mesa = pd.read_csv(f\"{path_dados_vinho}ProcessaMesa.csv\", sep=\";\")\n",
    "df_proc_viniferas = pd.read_csv(f\"{path_dados_vinho}ProcessaViniferas.csv\", sep=\";\")"
   ]
  },
  {
   "cell_type": "markdown",
   "metadata": {},
   "source": [
    "### Produção"
   ]
  },
  {
   "cell_type": "code",
   "execution_count": 31,
   "metadata": {},
   "outputs": [],
   "source": [
    "df_produção = pd.read_csv(f\"{path_dados_vinho}Producao.csv\", sep=\";\")"
   ]
  },
  {
   "cell_type": "code",
   "execution_count": null,
   "metadata": {},
   "outputs": [],
   "source": []
  }
 ],
 "metadata": {
  "kernelspec": {
   "display_name": "fiap_3818",
   "language": "python",
   "name": "python3"
  },
  "language_info": {
   "codemirror_mode": {
    "name": "ipython",
    "version": 3
   },
   "file_extension": ".py",
   "mimetype": "text/x-python",
   "name": "python",
   "nbconvert_exporter": "python",
   "pygments_lexer": "ipython3",
   "version": "3.8.18"
  }
 },
 "nbformat": 4,
 "nbformat_minor": 2
}
